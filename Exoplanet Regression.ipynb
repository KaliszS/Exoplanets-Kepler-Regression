{
 "cells": [
  {
   "cell_type": "markdown",
   "metadata": {},
   "source": [
    "### Importy"
   ]
  },
  {
   "cell_type": "code",
   "execution_count": 1,
   "metadata": {},
   "outputs": [],
   "source": [
    "import numpy as np\n",
    "import pandas as pd\n",
    "pd.set_option('display.max_rows', 500)\n",
    "pd.set_option('display.max_columns', 500)\n",
    "pd.set_option('display.width', 1000)\n",
    "import seaborn as sns\n",
    "import matplotlib.pyplot as plt"
   ]
  },
  {
   "cell_type": "markdown",
   "metadata": {},
   "source": [
    "### Wczytanie pliku z danymi wejściowymi"
   ]
  },
  {
   "cell_type": "code",
   "execution_count": 2,
   "metadata": {},
   "outputs": [],
   "source": [
    "df = pd.read_csv(\"exoplanets.csv\")"
   ]
  },
  {
   "cell_type": "markdown",
   "metadata": {},
   "source": [
    "### Kształt ramki danych"
   ]
  },
  {
   "cell_type": "code",
   "execution_count": 3,
   "metadata": {},
   "outputs": [
    {
     "name": "stdout",
     "output_type": "stream",
     "text": [
      "Liczba obiektów: 4104\n",
      "Liczba atrybutów: 28\n",
      "\n"
     ]
    }
   ],
   "source": [
    "l_obiektow = df.shape[0]\n",
    "l_atrybutow = df.columns.size\n",
    "\n",
    "print('Liczba obiektów: {}'.format(l_obiektow))\n",
    "print('Liczba atrybutów: {}\\n'.format(l_atrybutow))"
   ]
  },
  {
   "cell_type": "code",
   "execution_count": 4,
   "metadata": {},
   "outputs": [
    {
     "name": "stdout",
     "output_type": "stream",
     "text": [
      "Brakująca liczba danych: 43828\n",
      "\n"
     ]
    }
   ],
   "source": [
    "l_brakow = df.isnull().sum().sum()\n",
    "\n",
    "print('Brakująca liczba danych: {}\\n'.format(l_brakow))"
   ]
  },
  {
   "cell_type": "markdown",
   "metadata": {},
   "source": [
    "### Podstawowe wskaźniki statystyczne dla ramki danych"
   ]
  },
  {
   "cell_type": "code",
   "execution_count": 6,
   "metadata": {},
   "outputs": [],
   "source": [
    "column_map = {\n",
    "    \"loc_rowid\" : \"ID\",\n",
    "    \"pl_pnum\" : \"Number of Planets in System\",\n",
    "    \"pl_orbper\" : \"Orbital Period (days)\",\n",
    "    \"pl_orbsmax\" : \"Orbit Semi-Major Axis (AU)\",\n",
    "    \"pl_orbeccen\" : \"Eccentricity\",\n",
    "    \"pl_orbincl\" : \"Inclination (deg)\",\n",
    "    \"pl_dens\" : \"Planet Density (g/cm**3)\",\n",
    "    \"st_dist\" : \"Distance (pc)\",\n",
    "    \"gaia_dist\" : \"Gaia Distance [pc]\",\n",
    "    \"st_optmag\" : \"Optical Magnitude [mag]\",\n",
    "    \"gaia_gmag\" : \"G-band (Gaia) [mag]\",\n",
    "    \"st_teff\" : \"Effective Temperature (K)\",\n",
    "    \"st_mass\" : \"Stellar Mass (solar mass)\",\n",
    "    \"st_rad\" : \"Stellar Radius (solar radii)\",\n",
    "    \"pl_rvamp\" : \"Radial Velocity Amplitude [m/s]\",\n",
    "    \"pl_eqt\" : \"Planet Equilibrium Temperature [K]\",\n",
    "    \"pl_bmasse\" : \"Planet Mass [Earth Mass]\",\n",
    "    \"pl_rade\" : \"Planet Radius (Earth radii)\",\n",
    "    \"pl_trandep\" : \"Transit Depth (percentage)\",\n",
    "    \"pl_trandur\" : \"Transit Duration (days)\",\n",
    "    \"pl_mnum\" : \"Number of Moons in System\",\n",
    "    \"st_radv\" : \"Stellar Radial Velocity (km/sec)\",\n",
    "    \"st_logg\" : \"Stellar Surface Gravity\",\n",
    "    \"st_lum\" : \"Stellar Luminosity [log(solar)]\",\n",
    "    \"st_dens\" : \"Stellar Density [g/cm**3]\",\n",
    "    \"st_metfe\" : \"Stellar Metallicity (dex)\",\n",
    "    \"st_age\" : \"Stellar Age [Gyr]\",\n",
    "    \"st_vsini\" : \"Rotational Velocity v*sin(i) [km/s]\" \n",
    "}\n",
    "df = df.rename(columns=column_map)"
   ]
  },
  {
   "cell_type": "code",
   "execution_count": 7,
   "metadata": {},
   "outputs": [
    {
     "data": {
      "text/html": [
       "<div>\n",
       "<style scoped>\n",
       "    .dataframe tbody tr th:only-of-type {\n",
       "        vertical-align: middle;\n",
       "    }\n",
       "\n",
       "    .dataframe tbody tr th {\n",
       "        vertical-align: top;\n",
       "    }\n",
       "\n",
       "    .dataframe thead th {\n",
       "        text-align: right;\n",
       "    }\n",
       "</style>\n",
       "<table border=\"1\" class=\"dataframe\">\n",
       "  <thead>\n",
       "    <tr style=\"text-align: right;\">\n",
       "      <th></th>\n",
       "      <th>ID</th>\n",
       "      <th>Number of Planets in System</th>\n",
       "      <th>Orbital Period (days)</th>\n",
       "      <th>Orbit Semi-Major Axis (AU)</th>\n",
       "      <th>Eccentricity</th>\n",
       "      <th>Inclination (deg)</th>\n",
       "      <th>Planet Density (g/cm**3)</th>\n",
       "      <th>Distance (pc)</th>\n",
       "      <th>Gaia Distance [pc]</th>\n",
       "      <th>Optical Magnitude [mag]</th>\n",
       "      <th>G-band (Gaia) [mag]</th>\n",
       "      <th>Effective Temperature (K)</th>\n",
       "      <th>Stellar Mass (solar mass)</th>\n",
       "      <th>Stellar Radius (solar radii)</th>\n",
       "      <th>Radial Velocity Amplitude [m/s]</th>\n",
       "      <th>Planet Equilibrium Temperature [K]</th>\n",
       "      <th>Planet Mass [Earth Mass]</th>\n",
       "      <th>Planet Radius (Earth radii)</th>\n",
       "      <th>Transit Depth (percentage)</th>\n",
       "      <th>Transit Duration (days)</th>\n",
       "      <th>Number of Moons in System</th>\n",
       "      <th>Stellar Radial Velocity (km/sec)</th>\n",
       "      <th>Stellar Surface Gravity</th>\n",
       "      <th>Stellar Luminosity [log(solar)]</th>\n",
       "      <th>Stellar Density [g/cm**3]</th>\n",
       "      <th>Stellar Metallicity (dex)</th>\n",
       "      <th>Stellar Age [Gyr]</th>\n",
       "      <th>Rotational Velocity v*sin(i) [km/s]</th>\n",
       "    </tr>\n",
       "  </thead>\n",
       "  <tbody>\n",
       "    <tr>\n",
       "      <th>count</th>\n",
       "      <td>4104.000000</td>\n",
       "      <td>4104.000000</td>\n",
       "      <td>3.986000e+03</td>\n",
       "      <td>2424.000000</td>\n",
       "      <td>1425.000000</td>\n",
       "      <td>876.000000</td>\n",
       "      <td>491.000000</td>\n",
       "      <td>4098.000000</td>\n",
       "      <td>3922.000000</td>\n",
       "      <td>3904.000000</td>\n",
       "      <td>3949.000000</td>\n",
       "      <td>3872.000000</td>\n",
       "      <td>3338.000000</td>\n",
       "      <td>3745.000000</td>\n",
       "      <td>1281.000000</td>\n",
       "      <td>668.000000</td>\n",
       "      <td>1656.000000</td>\n",
       "      <td>3158.000000</td>\n",
       "      <td>362.000000</td>\n",
       "      <td>2532.000000</td>\n",
       "      <td>4104.0</td>\n",
       "      <td>1830.000000</td>\n",
       "      <td>3595.000000</td>\n",
       "      <td>633.000000</td>\n",
       "      <td>704.000000</td>\n",
       "      <td>2862.000000</td>\n",
       "      <td>2056.000000</td>\n",
       "      <td>1405.000000</td>\n",
       "    </tr>\n",
       "    <tr>\n",
       "      <th>mean</th>\n",
       "      <td>2052.500000</td>\n",
       "      <td>1.775341</td>\n",
       "      <td>2.306825e+03</td>\n",
       "      <td>6.564587</td>\n",
       "      <td>0.161211</td>\n",
       "      <td>86.198435</td>\n",
       "      <td>2.550300</td>\n",
       "      <td>634.858382</td>\n",
       "      <td>601.432027</td>\n",
       "      <td>12.682565</td>\n",
       "      <td>12.576593</td>\n",
       "      <td>5492.436743</td>\n",
       "      <td>1.002828</td>\n",
       "      <td>1.542417</td>\n",
       "      <td>106.473152</td>\n",
       "      <td>1118.480539</td>\n",
       "      <td>798.166702</td>\n",
       "      <td>4.229484</td>\n",
       "      <td>0.823579</td>\n",
       "      <td>0.168379</td>\n",
       "      <td>0.0</td>\n",
       "      <td>-2.323339</td>\n",
       "      <td>4.351054</td>\n",
       "      <td>-0.185122</td>\n",
       "      <td>2.984855</td>\n",
       "      <td>0.014503</td>\n",
       "      <td>4.144841</td>\n",
       "      <td>5.293817</td>\n",
       "    </tr>\n",
       "    <tr>\n",
       "      <th>std</th>\n",
       "      <td>1184.867081</td>\n",
       "      <td>1.156830</td>\n",
       "      <td>1.159974e+05</td>\n",
       "      <td>79.871667</td>\n",
       "      <td>0.187956</td>\n",
       "      <td>8.478420</td>\n",
       "      <td>5.170593</td>\n",
       "      <td>831.537402</td>\n",
       "      <td>760.003375</td>\n",
       "      <td>2.966049</td>\n",
       "      <td>2.990899</td>\n",
       "      <td>1764.707461</td>\n",
       "      <td>0.650181</td>\n",
       "      <td>3.700614</td>\n",
       "      <td>239.089074</td>\n",
       "      <td>578.209031</td>\n",
       "      <td>1407.662053</td>\n",
       "      <td>4.802397</td>\n",
       "      <td>0.673633</td>\n",
       "      <td>0.112660</td>\n",
       "      <td>0.0</td>\n",
       "      <td>32.767284</td>\n",
       "      <td>0.424362</td>\n",
       "      <td>1.151098</td>\n",
       "      <td>8.713126</td>\n",
       "      <td>0.176270</td>\n",
       "      <td>2.159694</td>\n",
       "      <td>13.618286</td>\n",
       "    </tr>\n",
       "    <tr>\n",
       "      <th>min</th>\n",
       "      <td>1.000000</td>\n",
       "      <td>1.000000</td>\n",
       "      <td>9.070629e-02</td>\n",
       "      <td>0.004400</td>\n",
       "      <td>0.000000</td>\n",
       "      <td>7.700000</td>\n",
       "      <td>0.030000</td>\n",
       "      <td>1.300000</td>\n",
       "      <td>1.300000</td>\n",
       "      <td>0.850000</td>\n",
       "      <td>2.804000</td>\n",
       "      <td>575.000000</td>\n",
       "      <td>0.010000</td>\n",
       "      <td>0.010000</td>\n",
       "      <td>-404.000000</td>\n",
       "      <td>50.000000</td>\n",
       "      <td>0.020000</td>\n",
       "      <td>0.336000</td>\n",
       "      <td>0.001200</td>\n",
       "      <td>0.013890</td>\n",
       "      <td>0.0</td>\n",
       "      <td>-121.900000</td>\n",
       "      <td>1.200000</td>\n",
       "      <td>-3.480000</td>\n",
       "      <td>0.024600</td>\n",
       "      <td>-0.890000</td>\n",
       "      <td>0.001000</td>\n",
       "      <td>0.000000</td>\n",
       "    </tr>\n",
       "    <tr>\n",
       "      <th>25%</th>\n",
       "      <td>1026.750000</td>\n",
       "      <td>1.000000</td>\n",
       "      <td>4.489907e+00</td>\n",
       "      <td>0.057000</td>\n",
       "      <td>0.015000</td>\n",
       "      <td>86.107500</td>\n",
       "      <td>0.415500</td>\n",
       "      <td>153.740000</td>\n",
       "      <td>149.912500</td>\n",
       "      <td>11.411000</td>\n",
       "      <td>11.274000</td>\n",
       "      <td>5020.000000</td>\n",
       "      <td>0.810000</td>\n",
       "      <td>0.800000</td>\n",
       "      <td>9.300000</td>\n",
       "      <td>657.250000</td>\n",
       "      <td>28.375000</td>\n",
       "      <td>1.570000</td>\n",
       "      <td>0.165000</td>\n",
       "      <td>0.099388</td>\n",
       "      <td>0.0</td>\n",
       "      <td>-20.930000</td>\n",
       "      <td>4.290000</td>\n",
       "      <td>-0.770000</td>\n",
       "      <td>0.621000</td>\n",
       "      <td>-0.060000</td>\n",
       "      <td>2.950000</td>\n",
       "      <td>1.600000</td>\n",
       "    </tr>\n",
       "    <tr>\n",
       "      <th>50%</th>\n",
       "      <td>2052.500000</td>\n",
       "      <td>1.000000</td>\n",
       "      <td>1.187372e+01</td>\n",
       "      <td>0.118000</td>\n",
       "      <td>0.100000</td>\n",
       "      <td>88.095000</td>\n",
       "      <td>0.994000</td>\n",
       "      <td>473.070000</td>\n",
       "      <td>465.265000</td>\n",
       "      <td>13.664000</td>\n",
       "      <td>13.541000</td>\n",
       "      <td>5599.500000</td>\n",
       "      <td>0.970000</td>\n",
       "      <td>0.980000</td>\n",
       "      <td>47.470000</td>\n",
       "      <td>1071.500000</td>\n",
       "      <td>273.333800</td>\n",
       "      <td>2.340000</td>\n",
       "      <td>0.779900</td>\n",
       "      <td>0.140092</td>\n",
       "      <td>0.0</td>\n",
       "      <td>-2.665000</td>\n",
       "      <td>4.440000</td>\n",
       "      <td>-0.076000</td>\n",
       "      <td>1.265000</td>\n",
       "      <td>0.020000</td>\n",
       "      <td>4.070000</td>\n",
       "      <td>2.660000</td>\n",
       "    </tr>\n",
       "    <tr>\n",
       "      <th>75%</th>\n",
       "      <td>3078.250000</td>\n",
       "      <td>2.000000</td>\n",
       "      <td>4.260425e+01</td>\n",
       "      <td>0.690000</td>\n",
       "      <td>0.230000</td>\n",
       "      <td>89.278000</td>\n",
       "      <td>2.600000</td>\n",
       "      <td>864.000000</td>\n",
       "      <td>884.672500</td>\n",
       "      <td>14.909250</td>\n",
       "      <td>14.856000</td>\n",
       "      <td>5923.000000</td>\n",
       "      <td>1.130000</td>\n",
       "      <td>1.260000</td>\n",
       "      <td>120.700000</td>\n",
       "      <td>1518.500000</td>\n",
       "      <td>807.259550</td>\n",
       "      <td>3.597500</td>\n",
       "      <td>1.200000</td>\n",
       "      <td>0.203105</td>\n",
       "      <td>0.0</td>\n",
       "      <td>16.150000</td>\n",
       "      <td>4.560000</td>\n",
       "      <td>0.465000</td>\n",
       "      <td>2.330000</td>\n",
       "      <td>0.110000</td>\n",
       "      <td>4.790000</td>\n",
       "      <td>4.420000</td>\n",
       "    </tr>\n",
       "    <tr>\n",
       "      <th>max</th>\n",
       "      <td>4104.000000</td>\n",
       "      <td>8.000000</td>\n",
       "      <td>7.300000e+06</td>\n",
       "      <td>2500.000000</td>\n",
       "      <td>0.950000</td>\n",
       "      <td>133.000000</td>\n",
       "      <td>77.700000</td>\n",
       "      <td>8500.000000</td>\n",
       "      <td>27199.210000</td>\n",
       "      <td>20.150000</td>\n",
       "      <td>20.480000</td>\n",
       "      <td>57000.000000</td>\n",
       "      <td>23.560000</td>\n",
       "      <td>71.230000</td>\n",
       "      <td>6114.000000</td>\n",
       "      <td>4050.000000</td>\n",
       "      <td>17668.169700</td>\n",
       "      <td>77.342000</td>\n",
       "      <td>3.230000</td>\n",
       "      <td>2.233333</td>\n",
       "      <td>0.0</td>\n",
       "      <td>245.200000</td>\n",
       "      <td>5.520000</td>\n",
       "      <td>3.015000</td>\n",
       "      <td>84.100000</td>\n",
       "      <td>0.690000</td>\n",
       "      <td>14.900000</td>\n",
       "      <td>299.000000</td>\n",
       "    </tr>\n",
       "  </tbody>\n",
       "</table>\n",
       "</div>"
      ],
      "text/plain": [
       "                ID  Number of Planets in System  Orbital Period (days)  Orbit Semi-Major Axis (AU)  Eccentricity  Inclination (deg)  Planet Density (g/cm**3)  Distance (pc)  Gaia Distance [pc]  Optical Magnitude [mag]  G-band (Gaia) [mag]  Effective Temperature (K)  Stellar Mass (solar mass)  Stellar Radius (solar radii)  Radial Velocity Amplitude [m/s]  Planet Equilibrium Temperature [K]  Planet Mass [Earth Mass]  Planet Radius (Earth radii)  Transit Depth (percentage)  Transit Duration (days)  Number of Moons in System  Stellar Radial Velocity (km/sec)  Stellar Surface Gravity  Stellar Luminosity [log(solar)]  Stellar Density [g/cm**3]  Stellar Metallicity (dex)  Stellar Age [Gyr]  Rotational Velocity v*sin(i) [km/s]\n",
       "count  4104.000000                  4104.000000           3.986000e+03                 2424.000000   1425.000000         876.000000                491.000000    4098.000000         3922.000000              3904.000000          3949.000000                3872.000000                3338.000000                   3745.000000                      1281.000000                          668.000000               1656.000000                  3158.000000                  362.000000              2532.000000                     4104.0                       1830.000000              3595.000000                       633.000000                 704.000000                2862.000000        2056.000000                          1405.000000\n",
       "mean   2052.500000                     1.775341           2.306825e+03                    6.564587      0.161211          86.198435                  2.550300     634.858382          601.432027                12.682565            12.576593                5492.436743                   1.002828                      1.542417                       106.473152                         1118.480539                798.166702                     4.229484                    0.823579                 0.168379                        0.0                         -2.323339                 4.351054                        -0.185122                   2.984855                   0.014503           4.144841                             5.293817\n",
       "std    1184.867081                     1.156830           1.159974e+05                   79.871667      0.187956           8.478420                  5.170593     831.537402          760.003375                 2.966049             2.990899                1764.707461                   0.650181                      3.700614                       239.089074                          578.209031               1407.662053                     4.802397                    0.673633                 0.112660                        0.0                         32.767284                 0.424362                         1.151098                   8.713126                   0.176270           2.159694                            13.618286\n",
       "min       1.000000                     1.000000           9.070629e-02                    0.004400      0.000000           7.700000                  0.030000       1.300000            1.300000                 0.850000             2.804000                 575.000000                   0.010000                      0.010000                      -404.000000                           50.000000                  0.020000                     0.336000                    0.001200                 0.013890                        0.0                       -121.900000                 1.200000                        -3.480000                   0.024600                  -0.890000           0.001000                             0.000000\n",
       "25%    1026.750000                     1.000000           4.489907e+00                    0.057000      0.015000          86.107500                  0.415500     153.740000          149.912500                11.411000            11.274000                5020.000000                   0.810000                      0.800000                         9.300000                          657.250000                 28.375000                     1.570000                    0.165000                 0.099388                        0.0                        -20.930000                 4.290000                        -0.770000                   0.621000                  -0.060000           2.950000                             1.600000\n",
       "50%    2052.500000                     1.000000           1.187372e+01                    0.118000      0.100000          88.095000                  0.994000     473.070000          465.265000                13.664000            13.541000                5599.500000                   0.970000                      0.980000                        47.470000                         1071.500000                273.333800                     2.340000                    0.779900                 0.140092                        0.0                         -2.665000                 4.440000                        -0.076000                   1.265000                   0.020000           4.070000                             2.660000\n",
       "75%    3078.250000                     2.000000           4.260425e+01                    0.690000      0.230000          89.278000                  2.600000     864.000000          884.672500                14.909250            14.856000                5923.000000                   1.130000                      1.260000                       120.700000                         1518.500000                807.259550                     3.597500                    1.200000                 0.203105                        0.0                         16.150000                 4.560000                         0.465000                   2.330000                   0.110000           4.790000                             4.420000\n",
       "max    4104.000000                     8.000000           7.300000e+06                 2500.000000      0.950000         133.000000                 77.700000    8500.000000        27199.210000                20.150000            20.480000               57000.000000                  23.560000                     71.230000                      6114.000000                         4050.000000              17668.169700                    77.342000                    3.230000                 2.233333                        0.0                        245.200000                 5.520000                         3.015000                  84.100000                   0.690000          14.900000                           299.000000"
      ]
     },
     "execution_count": 7,
     "metadata": {},
     "output_type": "execute_result"
    }
   ],
   "source": [
    "df.describe()"
   ]
  },
  {
   "cell_type": "code",
   "execution_count": 9,
   "metadata": {},
   "outputs": [
    {
     "name": "stdout",
     "output_type": "stream",
     "text": [
      "<class 'pandas.core.frame.DataFrame'>\n",
      "RangeIndex: 4104 entries, 0 to 4103\n",
      "Data columns (total 28 columns):\n",
      "ID                                     4104 non-null int64\n",
      "Number of Planets in System            4104 non-null int64\n",
      "Orbital Period (days)                  3986 non-null float64\n",
      "Orbit Semi-Major Axis (AU)             2424 non-null float64\n",
      "Eccentricity                           1425 non-null float64\n",
      "Inclination (deg)                      876 non-null float64\n",
      "Planet Density (g/cm**3)               491 non-null float64\n",
      "Distance (pc)                          4098 non-null float64\n",
      "Gaia Distance [pc]                     3922 non-null float64\n",
      "Optical Magnitude [mag]                3904 non-null float64\n",
      "G-band (Gaia) [mag]                    3949 non-null float64\n",
      "Effective Temperature (K)              3872 non-null float64\n",
      "Stellar Mass (solar mass)              3338 non-null float64\n",
      "Stellar Radius (solar radii)           3745 non-null float64\n",
      "Radial Velocity Amplitude [m/s]        1281 non-null float64\n",
      "Planet Equilibrium Temperature [K]     668 non-null float64\n",
      "Planet Mass [Earth Mass]               1656 non-null float64\n",
      "Planet Radius (Earth radii)            3158 non-null float64\n",
      "Transit Depth (percentage)             362 non-null float64\n",
      "Transit Duration (days)                2532 non-null float64\n",
      "Number of Moons in System              4104 non-null int64\n",
      "Stellar Radial Velocity (km/sec)       1830 non-null float64\n",
      "Stellar Surface Gravity                3595 non-null float64\n",
      "Stellar Luminosity [log(solar)]        633 non-null float64\n",
      "Stellar Density [g/cm**3]              704 non-null float64\n",
      "Stellar Metallicity (dex)              2862 non-null float64\n",
      "Stellar Age [Gyr]                      2056 non-null float64\n",
      "Rotational Velocity v*sin(i) [km/s]    1405 non-null float64\n",
      "dtypes: float64(25), int64(3)\n",
      "memory usage: 897.9 KB\n"
     ]
    }
   ],
   "source": [
    "df.info()"
   ]
  },
  {
   "cell_type": "markdown",
   "metadata": {},
   "source": [
    "Mapa skorelowania poszczególnych atrybutów"
   ]
  },
  {
   "cell_type": "code",
   "execution_count": null,
   "metadata": {},
   "outputs": [
    {
     "data": {
      "text/plain": [
       "<matplotlib.axes._subplots.AxesSubplot at 0x1971d92a848>"
      ]
     },
     "execution_count": 10,
     "metadata": {},
     "output_type": "execute_result"
    }
   ],
   "source": [
    "corr = df.corr()\n",
    "plt.figure(figsize=(64, 64), dpi = 300)\n",
    "sns.heatmap(df.corr(), annot = df.corr())"
   ]
  },
  {
   "cell_type": "markdown",
   "metadata": {},
   "source": [
    "### Badamy najsilniej skorelowane atrybuty"
   ]
  },
  {
   "cell_type": "code",
   "execution_count": 26,
   "metadata": {},
   "outputs": [
    {
     "data": {
      "text/plain": [
       "0.9998041283072305"
      ]
     },
     "execution_count": 26,
     "metadata": {},
     "output_type": "execute_result"
    }
   ],
   "source": [
    "# nie interesuje nas znak\n",
    "corr_array = corr.abs().values\n",
    "# wyrzucamy NaNy\n",
    "corr_array  = corr_array[~np.isnan(corr_array)]\n",
    "#sortujemy \n",
    "corr_sorted = np.sort(corr_array[::-1], axis=0)\n",
    "# wyrzucamy wartoci z przekątnej \n",
    "corr_sorted = corr_sorted[np.where( corr_sorted != 1.0 )]\n",
    "# Maksymalny wskaźnik skorelowania pomiędzy danymi\n",
    "np.amax(corr_sorted)"
   ]
  },
  {
   "cell_type": "markdown",
   "metadata": {},
   "source": [
    "### Pokazujemy jak rozkładają się wartości skorelowania danych"
   ]
  },
  {
   "cell_type": "code",
   "execution_count": 27,
   "metadata": {},
   "outputs": [
    {
     "data": {
      "image/png": "[encoded data removed]",
      "text/plain": [
       "<Figure size 432x288 with 1 Axes>"
      ]
     },
     "metadata": {
      "needs_background": "light"
     },
     "output_type": "display_data"
    }
   ],
   "source": [
    "plt.plot(corr_sorted)\n",
    "plt.show()"
   ]
  },
  {
   "cell_type": "code",
   "execution_count": 28,
   "metadata": {},
   "outputs": [
    {
     "data": {
      "image/png": "[encoded data removed]",
      "text/plain": [
       "<Figure size 432x288 with 1 Axes>"
      ]
     },
     "metadata": {
      "needs_background": "light"
     },
     "output_type": "display_data"
    }
   ],
   "source": [
    "plt.hist(corr_sorted)\n",
    "plt.show()"
   ]
  },
  {
   "cell_type": "code",
   "execution_count": null,
   "metadata": {},
   "outputs": [],
   "source": [
    "#TODO \n",
    "Mamy kilka atrybutów silnie skorelowanych. Warto by je znaleźc i o tym napisać"
   ]
  }
 ],
 "metadata": {
  "kernelspec": {
   "display_name": "Python 3",
   "language": "python",
   "name": "python3"
  },
  "language_info": {
   "codemirror_mode": {
    "name": "ipython",
    "version": 3
   },
   "file_extension": ".py",
   "mimetype": "text/x-python",
   "name": "python",
   "nbconvert_exporter": "python",
   "pygments_lexer": "ipython3",
   "version": "3.7.5"
  },
  "toc": {
   "base_numbering": 1,
   "nav_menu": {},
   "number_sections": false,
   "sideBar": true,
   "skip_h1_title": false,
   "title_cell": "Table of Contents",
   "title_sidebar": "Contents",
   "toc_cell": false,
   "toc_position": {},
   "toc_section_display": true,
   "toc_window_display": false
  }
 },
 "nbformat": 4,
 "nbformat_minor": 2
}
